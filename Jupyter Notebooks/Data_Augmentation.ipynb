{
  "nbformat": 4,
  "nbformat_minor": 0,
  "metadata": {
    "colab": {
      "name": "Data Augmentation",
      "provenance": [],
      "collapsed_sections": [
        "KdJabe44AgXB"
      ]
    },
    "kernelspec": {
      "name": "python3",
      "display_name": "Python 3"
    },
    "accelerator": "GPU"
  },
  "cells": [
    {
      "cell_type": "markdown",
      "metadata": {
        "id": "RW7W9dTYxvZs",
        "colab_type": "text"
      },
      "source": [
        "#Data Augmentation\n",
        "Here, the aim is to augment the images in the dataset in order to increase its size. The transformations used are : horizontal flip, zoom range of 0.04, height shift range of 0.04, width shift range of 0.04, shear range of 0.04. The data augmentation is done with the help of Image Data Generator."
      ]
    },
    {
      "cell_type": "markdown",
      "metadata": {
        "id": "KdJabe44AgXB",
        "colab_type": "text"
      },
      "source": [
        "# Authentication"
      ]
    },
    {
      "cell_type": "code",
      "metadata": {
        "id": "A5UhBwnOPjRQ",
        "colab_type": "code",
        "colab": {
          "base_uri": "https://localhost:8080/",
          "height": 228
        },
        "outputId": "df272743-e040-4106-f7c3-44c15004850a"
      },
      "source": [
        "#Authentication of user \n",
        "!apt-get install -y -qq software-properties-common python-software-properties module-init-tools\n",
        "!add-apt-repository -y ppa:alessandro-strada/ppa 2>&1 > /dev/null\n",
        "!apt-get update -qq 2>&1 > /dev/null\n",
        "!apt-get -y install -qq google-drive-ocamlfuse fuse\n",
        "from google.colab import auth\n",
        "auth.authenticate_user()\n",
        "from oauth2client.client import GoogleCredentials\n",
        "creds = GoogleCredentials.get_application_default()\n",
        "import getpass\n",
        "!google-drive-ocamlfuse -headless -id={creds.client_id} -secret={creds.client_secret} < /dev/null 2>&1 | grep URL\n",
        "vcode = getpass.getpass()\n",
        "!echo {vcode} | google-drive-ocamlfuse -headless -id={creds.client_id} -secret={creds.client_secret}\n"
      ],
      "execution_count": null,
      "outputs": [
        {
          "output_type": "stream",
          "text": [
            "E: Package 'python-software-properties' has no installation candidate\n",
            "Selecting previously unselected package google-drive-ocamlfuse.\n",
            "(Reading database ... 144433 files and directories currently installed.)\n",
            "Preparing to unpack .../google-drive-ocamlfuse_0.7.21-0ubuntu1~ubuntu18.04.1_amd64.deb ...\n",
            "Unpacking google-drive-ocamlfuse (0.7.21-0ubuntu1~ubuntu18.04.1) ...\n",
            "Setting up google-drive-ocamlfuse (0.7.21-0ubuntu1~ubuntu18.04.1) ...\n",
            "Processing triggers for man-db (2.8.3-2ubuntu0.1) ...\n",
            "Please, open the following URL in a web browser: https://accounts.google.com/o/oauth2/auth?client_id=32555940559.apps.googleusercontent.com&redirect_uri=urn%3Aietf%3Awg%3Aoauth%3A2.0%3Aoob&scope=https%3A%2F%2Fwww.googleapis.com%2Fauth%2Fdrive&response_type=code&access_type=offline&approval_prompt=force\n",
            "··········\n",
            "Please, open the following URL in a web browser: https://accounts.google.com/o/oauth2/auth?client_id=32555940559.apps.googleusercontent.com&redirect_uri=urn%3Aietf%3Awg%3Aoauth%3A2.0%3Aoob&scope=https%3A%2F%2Fwww.googleapis.com%2Fauth%2Fdrive&response_type=code&access_type=offline&approval_prompt=force\n",
            "Please enter the verification code: Access token retrieved correctly.\n"
          ],
          "name": "stdout"
        }
      ]
    },
    {
      "cell_type": "code",
      "metadata": {
        "id": "0Amk_Sm_QK0g",
        "colab_type": "code",
        "colab": {
          "base_uri": "https://localhost:8080/",
          "height": 121
        },
        "outputId": "4226d7b5-7b61-42a6-a38b-c9e61676e132"
      },
      "source": [
        "#This cell is used to create a folder 'drive' and load the files of drive in it\n",
        "!mkdir drive\n",
        "!google-drive-ocamlfuse drive #ocaml fuse is defined in the previous cell\n",
        "!ls drive\n"
      ],
      "execution_count": null,
      "outputs": [
        {
          "output_type": "stream",
          "text": [
            " ADNI_dataset_2000\t       CN\n",
            " ADNI_dataset_450\t      'Colab Notebooks'\n",
            " ADNI_dataset_splitted_2000   'Data Augmentation'\n",
            " ADNI_dataset_splitted_30000   Shitty_Augmented\n",
            " ADNI_dataset_splitted_450    'Transfer-Learning in Keras.ipynb'\n",
            " ADNI_dataset_splitted_5000\n"
          ],
          "name": "stdout"
        }
      ]
    },
    {
      "cell_type": "markdown",
      "metadata": {
        "id": "EU6GKAEEX-GL",
        "colab_type": "text"
      },
      "source": [
        "# *Data Augmentation*\n"
      ]
    },
    {
      "cell_type": "code",
      "metadata": {
        "id": "mmzr3OVIX9Qn",
        "colab_type": "code",
        "colab": {}
      },
      "source": [
        "from tensorflow.python.client import device_lib\n",
        "assert 'GPU' in str(device_lib.list_local_devices())"
      ],
      "execution_count": null,
      "outputs": []
    },
    {
      "cell_type": "code",
      "metadata": {
        "id": "XkvmfpnZ-WIh",
        "colab_type": "code",
        "colab": {
          "base_uri": "https://localhost:8080/"
        },
        "outputId": "7546292b-d027-4b1a-81e6-856743a2960a"
      },
      "source": [
        "# import the necessary packages\n",
        "from keras.preprocessing.image import ImageDataGenerator\n",
        "from tensorflow.keras.applications.mobilenet_v2 import MobileNetV2, preprocess_input\n",
        "from keras.preprocessing.image import img_to_array\n",
        "from keras.preprocessing.image import load_img\n",
        "import numpy as np\n",
        "import os\n",
        "\n",
        "# load the input image, convert it to a NumPy array, and then\n",
        "# reshape it to have an extra dimension\n",
        "print(\"[INFO] loading example image...\")\n",
        "main_path = '/content/drive/Dataset/AD'\n",
        "adni_list = os.listdir(main_path)\n",
        "for infile in adni_list:\n",
        "  print('Next image...',infile)\n",
        "  image = load_img(os.path.join(main_path+'/'+infile))\n",
        "  image = img_to_array(image)\n",
        "  image = np.expand_dims(image, axis=0)\n",
        "  # construct the image generator for data augmentation then\n",
        "  # initialize the total number of images generated thus far\n",
        "  aug = ImageDataGenerator(\n",
        "      preprocessing_function=preprocess_input,\n",
        "      zoom_range=0.05,\n",
        "      width_shift_range=0.05,\n",
        "      height_shift_range=0.05,\n",
        "      shear_range=0.05,\n",
        "      horizontal_flip=True,\n",
        "      fill_mode=\"nearest\")\n",
        "  \n",
        "  total = 0\n",
        "  # construct the actual Python generator\n",
        "  print(\"[INFO] generating images...\")\n",
        "  imageGen = aug.flow(image,batch_size=1, save_to_dir='directory_in_which_augmented_images_are_saved',\n",
        "\tsave_prefix=\"recent_augmented_\", save_format=\"png\")\n",
        "  # loop over examples from our image data augmentation generator\n",
        "  for image in imageGen:\n",
        "    # increment our counter\n",
        "    total += 1\n",
        "    # if we have reached the specified number of examples, break\n",
        "    # from the loop\n",
        "    if total == 5:\n",
        "      print('This loop done')\n",
        "      break"
      ],
      "execution_count": null,
      "outputs": [
        {
          "output_type": "stream",
          "text": [
            "Using TensorFlow backend.\n"
          ],
          "name": "stderr"
        },
        {
          "output_type": "stream",
          "text": [
            "[INFO] loading example image...\n",
            "Next image... 10671.png\n",
            "[INFO] generating images...\n",
            "This loop done\n",
            "Next image... 9873.png\n",
            "[INFO] generating images...\n",
            "This loop done\n",
            "Next image... 1288.png\n",
            "[INFO] generating images...\n",
            "This loop done\n",
            "Next image... 49090.png\n",
            "[INFO] generating images...\n",
            "This loop done\n",
            "Next image... 8700.png\n",
            "[INFO] generating images...\n",
            "This loop done\n",
            "Next image... 34912.png\n",
            "[INFO] generating images...\n",
            "This loop done\n",
            "Next image... 49012.png\n",
            "[INFO] generating images...\n",
            "This loop done\n",
            "Next image... 485.png\n",
            "[INFO] generating images...\n",
            "This loop done\n",
            "Next image... 10248.png\n",
            "[INFO] generating images...\n",
            "This loop done\n",
            "Next image... 7222.png\n",
            "[INFO] generating images...\n",
            "This loop done\n",
            "Next image... 70064.png\n",
            "[INFO] generating images...\n",
            "This loop done\n",
            "Next image... 11010.png\n",
            "[INFO] generating images...\n",
            "This loop done\n",
            "Next image... 4176.png\n",
            "[INFO] generating images...\n",
            "This loop done\n",
            "Next image... 14095.png\n",
            "[INFO] generating images...\n",
            "This loop done\n",
            "Next image... 20422.png\n",
            "[INFO] generating images...\n",
            "This loop done\n",
            "Next image... 12123.png\n",
            "[INFO] generating images...\n",
            "This loop done\n",
            "Next image... 9173.png\n",
            "[INFO] generating images...\n",
            "This loop done\n",
            "Next image... 11887.png\n",
            "[INFO] generating images...\n",
            "This loop done\n",
            "Next image... 15300.png\n",
            "[INFO] generating images...\n",
            "This loop done\n",
            "Next image... 14041.png\n",
            "[INFO] generating images...\n",
            "This loop done\n",
            "Next image... 34767.png\n",
            "[INFO] generating images...\n",
            "This loop done\n",
            "Next image... 31400.png\n",
            "[INFO] generating images...\n",
            "This loop done\n",
            "Next image... 41309.png\n",
            "[INFO] generating images...\n",
            "This loop done\n",
            "Next image... 18256.png\n",
            "[INFO] generating images...\n",
            "This loop done\n",
            "Next image... 8933.png\n",
            "[INFO] generating images...\n",
            "This loop done\n",
            "Next image... 652.png\n",
            "[INFO] generating images...\n",
            "This loop done\n",
            "Next image... 229.png\n",
            "[INFO] generating images...\n",
            "This loop done\n",
            "Next image... 1008.png\n",
            "[INFO] generating images...\n",
            "This loop done\n",
            "Next image... 3299.png\n",
            "[INFO] generating images...\n",
            "This loop done\n",
            "Next image... 9719.png\n",
            "[INFO] generating images...\n",
            "This loop done\n",
            "Next image... 1266.png\n",
            "[INFO] generating images...\n",
            "This loop done\n",
            "Next image... 63519.png\n",
            "[INFO] generating images...\n",
            "This loop done\n",
            "Next image... 3905.png\n",
            "[INFO] generating images...\n",
            "This loop done\n",
            "Next image... 23971.png\n",
            "[INFO] generating images...\n",
            "This loop done\n",
            "Next image... 44930.png\n",
            "[INFO] generating images...\n",
            "This loop done\n",
            "Next image... 8611.png\n",
            "[INFO] generating images...\n",
            "This loop done\n",
            "Next image... 1331.png\n",
            "[INFO] generating images...\n",
            "This loop done\n",
            "Next image... 6119.png\n",
            "[INFO] generating images...\n",
            "This loop done\n",
            "Next image... 15192.png\n",
            "[INFO] generating images...\n",
            "This loop done\n",
            "Next image... 35780.png\n",
            "[INFO] generating images...\n",
            "This loop done\n",
            "Next image... 2965.png\n",
            "[INFO] generating images...\n",
            "This loop done\n",
            "Next image... 18211.png\n",
            "[INFO] generating images...\n",
            "This loop done\n",
            "Next image... 12202.png\n",
            "[INFO] generating images...\n",
            "This loop done\n",
            "Next image... 5828.png\n",
            "[INFO] generating images...\n",
            "This loop done\n",
            "Next image... 55430.png\n",
            "[INFO] generating images...\n",
            "This loop done\n",
            "Next image... 23414.png\n",
            "[INFO] generating images...\n",
            "This loop done\n",
            "Next image... 15208.png\n",
            "[INFO] generating images...\n",
            "This loop done\n",
            "Next image... 859.png\n",
            "[INFO] generating images...\n",
            "This loop done\n",
            "Next image... 27246.png\n",
            "[INFO] generating images...\n",
            "This loop done\n",
            "Next image... 10614.png\n",
            "[INFO] generating images...\n",
            "This loop done\n",
            "Next image... 42913.png\n",
            "[INFO] generating images...\n",
            "This loop done\n"
          ],
          "name": "stdout"
        }
      ]
    }
  ]
}